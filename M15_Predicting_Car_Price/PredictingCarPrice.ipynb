{
 "cells": [
  {
   "cell_type": "markdown",
   "metadata": {
    "collapsed": true
   },
   "source": [
    "# Предсказание рыночной цены на автомобиль"
   ]
  },
  {
   "cell_type": "markdown",
   "metadata": {},
   "source": [
    "Используем алгоритм K ближайших соседей для предсказания рыночной цены на автомобили."
   ]
  },
  {
   "cell_type": "code",
   "execution_count": 243,
   "metadata": {
    "collapsed": false
   },
   "outputs": [],
   "source": [
    "import pandas as pd\n",
    "import numpy as np\n",
    "from sklearn.neighbors import KNeighborsRegressor\n",
    "from sklearn.metrics import mean_squared_error\n",
    "from sklearn.model_selection import cross_val_score, KFold\n",
    "import matplotlib.pyplot as plt\n",
    "%matplotlib inline"
   ]
  },
  {
   "cell_type": "markdown",
   "metadata": {},
   "source": [
    "## Подготовка, очистка данных и нормализация"
   ]
  },
  {
   "cell_type": "code",
   "execution_count": 244,
   "metadata": {
    "collapsed": true
   },
   "outputs": [],
   "source": [
    "cars=pd.read_csv(\"imports-85.data\")"
   ]
  },
  {
   "cell_type": "code",
   "execution_count": 245,
   "metadata": {
    "collapsed": false
   },
   "outputs": [
    {
     "data": {
      "text/html": [
       "<div>\n",
       "<style scoped>\n",
       "    .dataframe tbody tr th:only-of-type {\n",
       "        vertical-align: middle;\n",
       "    }\n",
       "\n",
       "    .dataframe tbody tr th {\n",
       "        vertical-align: top;\n",
       "    }\n",
       "\n",
       "    .dataframe thead th {\n",
       "        text-align: right;\n",
       "    }\n",
       "</style>\n",
       "<table border=\"1\" class=\"dataframe\">\n",
       "  <thead>\n",
       "    <tr style=\"text-align: right;\">\n",
       "      <th></th>\n",
       "      <th>3</th>\n",
       "      <th>?</th>\n",
       "      <th>alfa-romero</th>\n",
       "      <th>gas</th>\n",
       "      <th>std</th>\n",
       "      <th>two</th>\n",
       "      <th>convertible</th>\n",
       "      <th>rwd</th>\n",
       "      <th>front</th>\n",
       "      <th>88.60</th>\n",
       "      <th>...</th>\n",
       "      <th>130</th>\n",
       "      <th>mpfi</th>\n",
       "      <th>3.47</th>\n",
       "      <th>2.68</th>\n",
       "      <th>9.00</th>\n",
       "      <th>111</th>\n",
       "      <th>5000</th>\n",
       "      <th>21</th>\n",
       "      <th>27</th>\n",
       "      <th>13495</th>\n",
       "    </tr>\n",
       "  </thead>\n",
       "  <tbody>\n",
       "    <tr>\n",
       "      <th>0</th>\n",
       "      <td>3</td>\n",
       "      <td>?</td>\n",
       "      <td>alfa-romero</td>\n",
       "      <td>gas</td>\n",
       "      <td>std</td>\n",
       "      <td>two</td>\n",
       "      <td>convertible</td>\n",
       "      <td>rwd</td>\n",
       "      <td>front</td>\n",
       "      <td>88.6</td>\n",
       "      <td>...</td>\n",
       "      <td>130</td>\n",
       "      <td>mpfi</td>\n",
       "      <td>3.47</td>\n",
       "      <td>2.68</td>\n",
       "      <td>9.0</td>\n",
       "      <td>111</td>\n",
       "      <td>5000</td>\n",
       "      <td>21</td>\n",
       "      <td>27</td>\n",
       "      <td>16500</td>\n",
       "    </tr>\n",
       "    <tr>\n",
       "      <th>1</th>\n",
       "      <td>1</td>\n",
       "      <td>?</td>\n",
       "      <td>alfa-romero</td>\n",
       "      <td>gas</td>\n",
       "      <td>std</td>\n",
       "      <td>two</td>\n",
       "      <td>hatchback</td>\n",
       "      <td>rwd</td>\n",
       "      <td>front</td>\n",
       "      <td>94.5</td>\n",
       "      <td>...</td>\n",
       "      <td>152</td>\n",
       "      <td>mpfi</td>\n",
       "      <td>2.68</td>\n",
       "      <td>3.47</td>\n",
       "      <td>9.0</td>\n",
       "      <td>154</td>\n",
       "      <td>5000</td>\n",
       "      <td>19</td>\n",
       "      <td>26</td>\n",
       "      <td>16500</td>\n",
       "    </tr>\n",
       "    <tr>\n",
       "      <th>2</th>\n",
       "      <td>2</td>\n",
       "      <td>164</td>\n",
       "      <td>audi</td>\n",
       "      <td>gas</td>\n",
       "      <td>std</td>\n",
       "      <td>four</td>\n",
       "      <td>sedan</td>\n",
       "      <td>fwd</td>\n",
       "      <td>front</td>\n",
       "      <td>99.8</td>\n",
       "      <td>...</td>\n",
       "      <td>109</td>\n",
       "      <td>mpfi</td>\n",
       "      <td>3.19</td>\n",
       "      <td>3.40</td>\n",
       "      <td>10.0</td>\n",
       "      <td>102</td>\n",
       "      <td>5500</td>\n",
       "      <td>24</td>\n",
       "      <td>30</td>\n",
       "      <td>13950</td>\n",
       "    </tr>\n",
       "    <tr>\n",
       "      <th>3</th>\n",
       "      <td>2</td>\n",
       "      <td>164</td>\n",
       "      <td>audi</td>\n",
       "      <td>gas</td>\n",
       "      <td>std</td>\n",
       "      <td>four</td>\n",
       "      <td>sedan</td>\n",
       "      <td>4wd</td>\n",
       "      <td>front</td>\n",
       "      <td>99.4</td>\n",
       "      <td>...</td>\n",
       "      <td>136</td>\n",
       "      <td>mpfi</td>\n",
       "      <td>3.19</td>\n",
       "      <td>3.40</td>\n",
       "      <td>8.0</td>\n",
       "      <td>115</td>\n",
       "      <td>5500</td>\n",
       "      <td>18</td>\n",
       "      <td>22</td>\n",
       "      <td>17450</td>\n",
       "    </tr>\n",
       "    <tr>\n",
       "      <th>4</th>\n",
       "      <td>2</td>\n",
       "      <td>?</td>\n",
       "      <td>audi</td>\n",
       "      <td>gas</td>\n",
       "      <td>std</td>\n",
       "      <td>two</td>\n",
       "      <td>sedan</td>\n",
       "      <td>fwd</td>\n",
       "      <td>front</td>\n",
       "      <td>99.8</td>\n",
       "      <td>...</td>\n",
       "      <td>136</td>\n",
       "      <td>mpfi</td>\n",
       "      <td>3.19</td>\n",
       "      <td>3.40</td>\n",
       "      <td>8.5</td>\n",
       "      <td>110</td>\n",
       "      <td>5500</td>\n",
       "      <td>19</td>\n",
       "      <td>25</td>\n",
       "      <td>15250</td>\n",
       "    </tr>\n",
       "  </tbody>\n",
       "</table>\n",
       "<p>5 rows × 26 columns</p>\n",
       "</div>"
      ],
      "text/plain": [
       "   3    ?  alfa-romero  gas  std   two  convertible  rwd  front  88.60  ...    \\\n",
       "0  3    ?  alfa-romero  gas  std   two  convertible  rwd  front   88.6  ...     \n",
       "1  1    ?  alfa-romero  gas  std   two    hatchback  rwd  front   94.5  ...     \n",
       "2  2  164         audi  gas  std  four        sedan  fwd  front   99.8  ...     \n",
       "3  2  164         audi  gas  std  four        sedan  4wd  front   99.4  ...     \n",
       "4  2    ?         audi  gas  std   two        sedan  fwd  front   99.8  ...     \n",
       "\n",
       "   130  mpfi  3.47  2.68  9.00  111  5000  21  27  13495  \n",
       "0  130  mpfi  3.47  2.68   9.0  111  5000  21  27  16500  \n",
       "1  152  mpfi  2.68  3.47   9.0  154  5000  19  26  16500  \n",
       "2  109  mpfi  3.19  3.40  10.0  102  5500  24  30  13950  \n",
       "3  136  mpfi  3.19  3.40   8.0  115  5500  18  22  17450  \n",
       "4  136  mpfi  3.19  3.40   8.5  110  5500  19  25  15250  \n",
       "\n",
       "[5 rows x 26 columns]"
      ]
     },
     "execution_count": 245,
     "metadata": {},
     "output_type": "execute_result"
    }
   ],
   "source": [
    "cars.head()"
   ]
  },
  {
   "cell_type": "code",
   "execution_count": 246,
   "metadata": {
    "collapsed": true
   },
   "outputs": [],
   "source": [
    "cols = ['symboling', 'normalized-losses', 'make', 'fuel-type', 'aspiration', 'num-of-doors', 'body-style', \n",
    "        'drive-wheels', 'engine-location', 'wheel-base', 'length', 'width', 'height', 'curb-weight', 'engine-type', \n",
    "        'num-of-cylinders', 'engine-size', 'fuel-system', 'bore', 'stroke', 'compression-rate', 'horsepower', 'peak-rpm', 'city-mpg', 'highway-mpg', 'price']"
   ]
  },
  {
   "cell_type": "code",
   "execution_count": 247,
   "metadata": {
    "collapsed": false
   },
   "outputs": [],
   "source": [
    "cars.columns=cols"
   ]
  },
  {
   "cell_type": "code",
   "execution_count": 248,
   "metadata": {
    "collapsed": false
   },
   "outputs": [
    {
     "data": {
      "text/html": [
       "<div>\n",
       "<style scoped>\n",
       "    .dataframe tbody tr th:only-of-type {\n",
       "        vertical-align: middle;\n",
       "    }\n",
       "\n",
       "    .dataframe tbody tr th {\n",
       "        vertical-align: top;\n",
       "    }\n",
       "\n",
       "    .dataframe thead th {\n",
       "        text-align: right;\n",
       "    }\n",
       "</style>\n",
       "<table border=\"1\" class=\"dataframe\">\n",
       "  <thead>\n",
       "    <tr style=\"text-align: right;\">\n",
       "      <th></th>\n",
       "      <th>symboling</th>\n",
       "      <th>normalized-losses</th>\n",
       "      <th>make</th>\n",
       "      <th>fuel-type</th>\n",
       "      <th>aspiration</th>\n",
       "      <th>num-of-doors</th>\n",
       "      <th>body-style</th>\n",
       "      <th>drive-wheels</th>\n",
       "      <th>engine-location</th>\n",
       "      <th>wheel-base</th>\n",
       "      <th>...</th>\n",
       "      <th>engine-size</th>\n",
       "      <th>fuel-system</th>\n",
       "      <th>bore</th>\n",
       "      <th>stroke</th>\n",
       "      <th>compression-rate</th>\n",
       "      <th>horsepower</th>\n",
       "      <th>peak-rpm</th>\n",
       "      <th>city-mpg</th>\n",
       "      <th>highway-mpg</th>\n",
       "      <th>price</th>\n",
       "    </tr>\n",
       "  </thead>\n",
       "  <tbody>\n",
       "    <tr>\n",
       "      <th>0</th>\n",
       "      <td>3</td>\n",
       "      <td>?</td>\n",
       "      <td>alfa-romero</td>\n",
       "      <td>gas</td>\n",
       "      <td>std</td>\n",
       "      <td>two</td>\n",
       "      <td>convertible</td>\n",
       "      <td>rwd</td>\n",
       "      <td>front</td>\n",
       "      <td>88.6</td>\n",
       "      <td>...</td>\n",
       "      <td>130</td>\n",
       "      <td>mpfi</td>\n",
       "      <td>3.47</td>\n",
       "      <td>2.68</td>\n",
       "      <td>9.0</td>\n",
       "      <td>111</td>\n",
       "      <td>5000</td>\n",
       "      <td>21</td>\n",
       "      <td>27</td>\n",
       "      <td>16500</td>\n",
       "    </tr>\n",
       "    <tr>\n",
       "      <th>1</th>\n",
       "      <td>1</td>\n",
       "      <td>?</td>\n",
       "      <td>alfa-romero</td>\n",
       "      <td>gas</td>\n",
       "      <td>std</td>\n",
       "      <td>two</td>\n",
       "      <td>hatchback</td>\n",
       "      <td>rwd</td>\n",
       "      <td>front</td>\n",
       "      <td>94.5</td>\n",
       "      <td>...</td>\n",
       "      <td>152</td>\n",
       "      <td>mpfi</td>\n",
       "      <td>2.68</td>\n",
       "      <td>3.47</td>\n",
       "      <td>9.0</td>\n",
       "      <td>154</td>\n",
       "      <td>5000</td>\n",
       "      <td>19</td>\n",
       "      <td>26</td>\n",
       "      <td>16500</td>\n",
       "    </tr>\n",
       "    <tr>\n",
       "      <th>2</th>\n",
       "      <td>2</td>\n",
       "      <td>164</td>\n",
       "      <td>audi</td>\n",
       "      <td>gas</td>\n",
       "      <td>std</td>\n",
       "      <td>four</td>\n",
       "      <td>sedan</td>\n",
       "      <td>fwd</td>\n",
       "      <td>front</td>\n",
       "      <td>99.8</td>\n",
       "      <td>...</td>\n",
       "      <td>109</td>\n",
       "      <td>mpfi</td>\n",
       "      <td>3.19</td>\n",
       "      <td>3.40</td>\n",
       "      <td>10.0</td>\n",
       "      <td>102</td>\n",
       "      <td>5500</td>\n",
       "      <td>24</td>\n",
       "      <td>30</td>\n",
       "      <td>13950</td>\n",
       "    </tr>\n",
       "    <tr>\n",
       "      <th>3</th>\n",
       "      <td>2</td>\n",
       "      <td>164</td>\n",
       "      <td>audi</td>\n",
       "      <td>gas</td>\n",
       "      <td>std</td>\n",
       "      <td>four</td>\n",
       "      <td>sedan</td>\n",
       "      <td>4wd</td>\n",
       "      <td>front</td>\n",
       "      <td>99.4</td>\n",
       "      <td>...</td>\n",
       "      <td>136</td>\n",
       "      <td>mpfi</td>\n",
       "      <td>3.19</td>\n",
       "      <td>3.40</td>\n",
       "      <td>8.0</td>\n",
       "      <td>115</td>\n",
       "      <td>5500</td>\n",
       "      <td>18</td>\n",
       "      <td>22</td>\n",
       "      <td>17450</td>\n",
       "    </tr>\n",
       "    <tr>\n",
       "      <th>4</th>\n",
       "      <td>2</td>\n",
       "      <td>?</td>\n",
       "      <td>audi</td>\n",
       "      <td>gas</td>\n",
       "      <td>std</td>\n",
       "      <td>two</td>\n",
       "      <td>sedan</td>\n",
       "      <td>fwd</td>\n",
       "      <td>front</td>\n",
       "      <td>99.8</td>\n",
       "      <td>...</td>\n",
       "      <td>136</td>\n",
       "      <td>mpfi</td>\n",
       "      <td>3.19</td>\n",
       "      <td>3.40</td>\n",
       "      <td>8.5</td>\n",
       "      <td>110</td>\n",
       "      <td>5500</td>\n",
       "      <td>19</td>\n",
       "      <td>25</td>\n",
       "      <td>15250</td>\n",
       "    </tr>\n",
       "  </tbody>\n",
       "</table>\n",
       "<p>5 rows × 26 columns</p>\n",
       "</div>"
      ],
      "text/plain": [
       "   symboling normalized-losses         make fuel-type aspiration num-of-doors  \\\n",
       "0          3                 ?  alfa-romero       gas        std          two   \n",
       "1          1                 ?  alfa-romero       gas        std          two   \n",
       "2          2               164         audi       gas        std         four   \n",
       "3          2               164         audi       gas        std         four   \n",
       "4          2                 ?         audi       gas        std          two   \n",
       "\n",
       "    body-style drive-wheels engine-location  wheel-base  ...    engine-size  \\\n",
       "0  convertible          rwd           front        88.6  ...            130   \n",
       "1    hatchback          rwd           front        94.5  ...            152   \n",
       "2        sedan          fwd           front        99.8  ...            109   \n",
       "3        sedan          4wd           front        99.4  ...            136   \n",
       "4        sedan          fwd           front        99.8  ...            136   \n",
       "\n",
       "   fuel-system  bore  stroke compression-rate horsepower  peak-rpm city-mpg  \\\n",
       "0         mpfi  3.47    2.68              9.0        111      5000       21   \n",
       "1         mpfi  2.68    3.47              9.0        154      5000       19   \n",
       "2         mpfi  3.19    3.40             10.0        102      5500       24   \n",
       "3         mpfi  3.19    3.40              8.0        115      5500       18   \n",
       "4         mpfi  3.19    3.40              8.5        110      5500       19   \n",
       "\n",
       "  highway-mpg  price  \n",
       "0          27  16500  \n",
       "1          26  16500  \n",
       "2          30  13950  \n",
       "3          22  17450  \n",
       "4          25  15250  \n",
       "\n",
       "[5 rows x 26 columns]"
      ]
     },
     "execution_count": 248,
     "metadata": {},
     "output_type": "execute_result"
    }
   ],
   "source": [
    "cars.head()"
   ]
  },
  {
   "cell_type": "code",
   "execution_count": 249,
   "metadata": {
    "collapsed": false
   },
   "outputs": [],
   "source": [
    "cars=cars.replace(\"?\",np.NaN)\n",
    "cars[\"normalized-losses\"]=cars[\"normalized-losses\"].replace(\"?\",np.NaN).astype(\"float\")"
   ]
  },
  {
   "cell_type": "code",
   "execution_count": 250,
   "metadata": {
    "collapsed": false
   },
   "outputs": [
    {
     "data": {
      "text/html": [
       "<div>\n",
       "<style scoped>\n",
       "    .dataframe tbody tr th:only-of-type {\n",
       "        vertical-align: middle;\n",
       "    }\n",
       "\n",
       "    .dataframe tbody tr th {\n",
       "        vertical-align: top;\n",
       "    }\n",
       "\n",
       "    .dataframe thead th {\n",
       "        text-align: right;\n",
       "    }\n",
       "</style>\n",
       "<table border=\"1\" class=\"dataframe\">\n",
       "  <thead>\n",
       "    <tr style=\"text-align: right;\">\n",
       "      <th></th>\n",
       "      <th>symboling</th>\n",
       "      <th>normalized-losses</th>\n",
       "      <th>make</th>\n",
       "      <th>fuel-type</th>\n",
       "      <th>aspiration</th>\n",
       "      <th>num-of-doors</th>\n",
       "      <th>body-style</th>\n",
       "      <th>drive-wheels</th>\n",
       "      <th>engine-location</th>\n",
       "      <th>wheel-base</th>\n",
       "      <th>...</th>\n",
       "      <th>engine-size</th>\n",
       "      <th>fuel-system</th>\n",
       "      <th>bore</th>\n",
       "      <th>stroke</th>\n",
       "      <th>compression-rate</th>\n",
       "      <th>horsepower</th>\n",
       "      <th>peak-rpm</th>\n",
       "      <th>city-mpg</th>\n",
       "      <th>highway-mpg</th>\n",
       "      <th>price</th>\n",
       "    </tr>\n",
       "  </thead>\n",
       "  <tbody>\n",
       "    <tr>\n",
       "      <th>0</th>\n",
       "      <td>3</td>\n",
       "      <td>NaN</td>\n",
       "      <td>alfa-romero</td>\n",
       "      <td>gas</td>\n",
       "      <td>std</td>\n",
       "      <td>two</td>\n",
       "      <td>convertible</td>\n",
       "      <td>rwd</td>\n",
       "      <td>front</td>\n",
       "      <td>88.6</td>\n",
       "      <td>...</td>\n",
       "      <td>130</td>\n",
       "      <td>mpfi</td>\n",
       "      <td>3.47</td>\n",
       "      <td>2.68</td>\n",
       "      <td>9.0</td>\n",
       "      <td>111</td>\n",
       "      <td>5000</td>\n",
       "      <td>21</td>\n",
       "      <td>27</td>\n",
       "      <td>16500</td>\n",
       "    </tr>\n",
       "    <tr>\n",
       "      <th>1</th>\n",
       "      <td>1</td>\n",
       "      <td>NaN</td>\n",
       "      <td>alfa-romero</td>\n",
       "      <td>gas</td>\n",
       "      <td>std</td>\n",
       "      <td>two</td>\n",
       "      <td>hatchback</td>\n",
       "      <td>rwd</td>\n",
       "      <td>front</td>\n",
       "      <td>94.5</td>\n",
       "      <td>...</td>\n",
       "      <td>152</td>\n",
       "      <td>mpfi</td>\n",
       "      <td>2.68</td>\n",
       "      <td>3.47</td>\n",
       "      <td>9.0</td>\n",
       "      <td>154</td>\n",
       "      <td>5000</td>\n",
       "      <td>19</td>\n",
       "      <td>26</td>\n",
       "      <td>16500</td>\n",
       "    </tr>\n",
       "    <tr>\n",
       "      <th>2</th>\n",
       "      <td>2</td>\n",
       "      <td>164.0</td>\n",
       "      <td>audi</td>\n",
       "      <td>gas</td>\n",
       "      <td>std</td>\n",
       "      <td>four</td>\n",
       "      <td>sedan</td>\n",
       "      <td>fwd</td>\n",
       "      <td>front</td>\n",
       "      <td>99.8</td>\n",
       "      <td>...</td>\n",
       "      <td>109</td>\n",
       "      <td>mpfi</td>\n",
       "      <td>3.19</td>\n",
       "      <td>3.40</td>\n",
       "      <td>10.0</td>\n",
       "      <td>102</td>\n",
       "      <td>5500</td>\n",
       "      <td>24</td>\n",
       "      <td>30</td>\n",
       "      <td>13950</td>\n",
       "    </tr>\n",
       "    <tr>\n",
       "      <th>3</th>\n",
       "      <td>2</td>\n",
       "      <td>164.0</td>\n",
       "      <td>audi</td>\n",
       "      <td>gas</td>\n",
       "      <td>std</td>\n",
       "      <td>four</td>\n",
       "      <td>sedan</td>\n",
       "      <td>4wd</td>\n",
       "      <td>front</td>\n",
       "      <td>99.4</td>\n",
       "      <td>...</td>\n",
       "      <td>136</td>\n",
       "      <td>mpfi</td>\n",
       "      <td>3.19</td>\n",
       "      <td>3.40</td>\n",
       "      <td>8.0</td>\n",
       "      <td>115</td>\n",
       "      <td>5500</td>\n",
       "      <td>18</td>\n",
       "      <td>22</td>\n",
       "      <td>17450</td>\n",
       "    </tr>\n",
       "    <tr>\n",
       "      <th>4</th>\n",
       "      <td>2</td>\n",
       "      <td>NaN</td>\n",
       "      <td>audi</td>\n",
       "      <td>gas</td>\n",
       "      <td>std</td>\n",
       "      <td>two</td>\n",
       "      <td>sedan</td>\n",
       "      <td>fwd</td>\n",
       "      <td>front</td>\n",
       "      <td>99.8</td>\n",
       "      <td>...</td>\n",
       "      <td>136</td>\n",
       "      <td>mpfi</td>\n",
       "      <td>3.19</td>\n",
       "      <td>3.40</td>\n",
       "      <td>8.5</td>\n",
       "      <td>110</td>\n",
       "      <td>5500</td>\n",
       "      <td>19</td>\n",
       "      <td>25</td>\n",
       "      <td>15250</td>\n",
       "    </tr>\n",
       "  </tbody>\n",
       "</table>\n",
       "<p>5 rows × 26 columns</p>\n",
       "</div>"
      ],
      "text/plain": [
       "   symboling  normalized-losses         make fuel-type aspiration  \\\n",
       "0          3                NaN  alfa-romero       gas        std   \n",
       "1          1                NaN  alfa-romero       gas        std   \n",
       "2          2              164.0         audi       gas        std   \n",
       "3          2              164.0         audi       gas        std   \n",
       "4          2                NaN         audi       gas        std   \n",
       "\n",
       "  num-of-doors   body-style drive-wheels engine-location  wheel-base  ...    \\\n",
       "0          two  convertible          rwd           front        88.6  ...     \n",
       "1          two    hatchback          rwd           front        94.5  ...     \n",
       "2         four        sedan          fwd           front        99.8  ...     \n",
       "3         four        sedan          4wd           front        99.4  ...     \n",
       "4          two        sedan          fwd           front        99.8  ...     \n",
       "\n",
       "   engine-size  fuel-system  bore  stroke compression-rate horsepower  \\\n",
       "0          130         mpfi  3.47    2.68              9.0        111   \n",
       "1          152         mpfi  2.68    3.47              9.0        154   \n",
       "2          109         mpfi  3.19    3.40             10.0        102   \n",
       "3          136         mpfi  3.19    3.40              8.0        115   \n",
       "4          136         mpfi  3.19    3.40              8.5        110   \n",
       "\n",
       "   peak-rpm city-mpg highway-mpg  price  \n",
       "0      5000       21          27  16500  \n",
       "1      5000       19          26  16500  \n",
       "2      5500       24          30  13950  \n",
       "3      5500       18          22  17450  \n",
       "4      5500       19          25  15250  \n",
       "\n",
       "[5 rows x 26 columns]"
      ]
     },
     "execution_count": 250,
     "metadata": {},
     "output_type": "execute_result"
    }
   ],
   "source": [
    "cars.head()"
   ]
  },
  {
   "cell_type": "markdown",
   "metadata": {},
   "source": [
    "Исследование пропущенных значений и выбор стратегии замены"
   ]
  },
  {
   "cell_type": "code",
   "execution_count": 251,
   "metadata": {
    "collapsed": false
   },
   "outputs": [
    {
     "data": {
      "text/plain": [
       "0.19607843137254902"
      ]
     },
     "execution_count": 251,
     "metadata": {},
     "output_type": "execute_result"
    }
   ],
   "source": [
    "cars[\"normalized-losses\"].isnull().sum()/len(cars[\"normalized-losses\"])"
   ]
  },
  {
   "cell_type": "markdown",
   "metadata": {},
   "source": [
    "Тк пропуски составляют 20% от общего кол-ва строк в датасете лучшая стратегия по замене пропусков - удавление."
   ]
  },
  {
   "cell_type": "code",
   "execution_count": 252,
   "metadata": {
    "collapsed": false
   },
   "outputs": [
    {
     "data": {
      "text/plain": [
       "204"
      ]
     },
     "execution_count": 252,
     "metadata": {},
     "output_type": "execute_result"
    }
   ],
   "source": [
    "len(cars[\"normalized-losses\"])"
   ]
  },
  {
   "cell_type": "code",
   "execution_count": 253,
   "metadata": {
    "collapsed": false
   },
   "outputs": [
    {
     "data": {
      "text/plain": [
       "normalized-losses    40\n",
       "width                 0\n",
       "height                0\n",
       "curb-weight           0\n",
       "bore                  0\n",
       "stroke                0\n",
       "compression-rate      0\n",
       "horsepower            2\n",
       "peak-rpm              2\n",
       "city-mpg              0\n",
       "highway-mpg           0\n",
       "price                 4\n",
       "dtype: int64"
      ]
     },
     "execution_count": 253,
     "metadata": {},
     "output_type": "execute_result"
    }
   ],
   "source": [
    "nan=cars.loc[cars[\"normalized-losses\"].isnull()]\n",
    "\n",
    "nan.iloc[:,[1,11,12,13,18,19,20,21,22,23,24,25]].isnull().sum()"
   ]
  },
  {
   "cell_type": "code",
   "execution_count": 254,
   "metadata": {
    "collapsed": false
   },
   "outputs": [],
   "source": [
    "cars.dropna(inplace=True)"
   ]
  },
  {
   "cell_type": "code",
   "execution_count": 255,
   "metadata": {
    "collapsed": false
   },
   "outputs": [
    {
     "data": {
      "text/plain": [
       "159"
      ]
     },
     "execution_count": 255,
     "metadata": {},
     "output_type": "execute_result"
    }
   ],
   "source": [
    "len(cars)"
   ]
  },
  {
   "cell_type": "code",
   "execution_count": 256,
   "metadata": {
    "collapsed": false
   },
   "outputs": [
    {
     "data": {
      "text/plain": [
       "symboling            0\n",
       "normalized-losses    0\n",
       "make                 0\n",
       "fuel-type            0\n",
       "aspiration           0\n",
       "num-of-doors         0\n",
       "body-style           0\n",
       "drive-wheels         0\n",
       "engine-location      0\n",
       "wheel-base           0\n",
       "length               0\n",
       "width                0\n",
       "height               0\n",
       "curb-weight          0\n",
       "engine-type          0\n",
       "num-of-cylinders     0\n",
       "engine-size          0\n",
       "fuel-system          0\n",
       "bore                 0\n",
       "stroke               0\n",
       "compression-rate     0\n",
       "horsepower           0\n",
       "peak-rpm             0\n",
       "city-mpg             0\n",
       "highway-mpg          0\n",
       "price                0\n",
       "dtype: int64"
      ]
     },
     "execution_count": 256,
     "metadata": {},
     "output_type": "execute_result"
    }
   ],
   "source": [
    "cars.isnull().sum()"
   ]
  },
  {
   "cell_type": "code",
   "execution_count": 257,
   "metadata": {
    "collapsed": false
   },
   "outputs": [],
   "source": [
    "cars.iloc[:,[1,9,10,11,12,13,18,19,20,21,22,23,24,25]].isnull().sum()\n",
    "cars=cars.iloc[:,[1,9,10,11,12,13,18,19,20,21,22,23,24,25]]\n",
    "cars=cars.astype(float)"
   ]
  },
  {
   "cell_type": "markdown",
   "metadata": {},
   "source": [
    "Нормализуем занчения кроме целевого столбца перед тренировкой модели"
   ]
  },
  {
   "cell_type": "code",
   "execution_count": 258,
   "metadata": {
    "collapsed": false
   },
   "outputs": [],
   "source": [
    "def norm (df):\n",
    "    norm=(df-df.min())/(df.max()-df.min())\n",
    "    return norm\n",
    "cars=cars.apply(norm)"
   ]
  },
  {
   "cell_type": "code",
   "execution_count": 259,
   "metadata": {
    "collapsed": false
   },
   "outputs": [
    {
     "data": {
      "text/html": [
       "<div>\n",
       "<style scoped>\n",
       "    .dataframe tbody tr th:only-of-type {\n",
       "        vertical-align: middle;\n",
       "    }\n",
       "\n",
       "    .dataframe tbody tr th {\n",
       "        vertical-align: top;\n",
       "    }\n",
       "\n",
       "    .dataframe thead th {\n",
       "        text-align: right;\n",
       "    }\n",
       "</style>\n",
       "<table border=\"1\" class=\"dataframe\">\n",
       "  <thead>\n",
       "    <tr style=\"text-align: right;\">\n",
       "      <th></th>\n",
       "      <th>normalized-losses</th>\n",
       "      <th>wheel-base</th>\n",
       "      <th>length</th>\n",
       "      <th>width</th>\n",
       "      <th>height</th>\n",
       "      <th>curb-weight</th>\n",
       "      <th>bore</th>\n",
       "      <th>stroke</th>\n",
       "      <th>compression-rate</th>\n",
       "      <th>horsepower</th>\n",
       "      <th>peak-rpm</th>\n",
       "      <th>city-mpg</th>\n",
       "      <th>highway-mpg</th>\n",
       "      <th>price</th>\n",
       "    </tr>\n",
       "  </thead>\n",
       "  <tbody>\n",
       "    <tr>\n",
       "      <th>2</th>\n",
       "      <td>0.518325</td>\n",
       "      <td>0.455172</td>\n",
       "      <td>0.577236</td>\n",
       "      <td>0.517544</td>\n",
       "      <td>0.471154</td>\n",
       "      <td>0.329325</td>\n",
       "      <td>0.464286</td>\n",
       "      <td>0.633333</td>\n",
       "      <td>0.18750</td>\n",
       "      <td>0.355263</td>\n",
       "      <td>0.551020</td>\n",
       "      <td>0.264706</td>\n",
       "      <td>0.333333</td>\n",
       "      <td>0.295010</td>\n",
       "    </tr>\n",
       "    <tr>\n",
       "      <th>3</th>\n",
       "      <td>0.518325</td>\n",
       "      <td>0.441379</td>\n",
       "      <td>0.577236</td>\n",
       "      <td>0.535088</td>\n",
       "      <td>0.471154</td>\n",
       "      <td>0.518231</td>\n",
       "      <td>0.464286</td>\n",
       "      <td>0.633333</td>\n",
       "      <td>0.06250</td>\n",
       "      <td>0.440789</td>\n",
       "      <td>0.551020</td>\n",
       "      <td>0.088235</td>\n",
       "      <td>0.111111</td>\n",
       "      <td>0.411918</td>\n",
       "    </tr>\n",
       "    <tr>\n",
       "      <th>5</th>\n",
       "      <td>0.486911</td>\n",
       "      <td>0.662069</td>\n",
       "      <td>0.839024</td>\n",
       "      <td>0.973684</td>\n",
       "      <td>0.605769</td>\n",
       "      <td>0.525989</td>\n",
       "      <td>0.464286</td>\n",
       "      <td>0.633333</td>\n",
       "      <td>0.09375</td>\n",
       "      <td>0.407895</td>\n",
       "      <td>0.551020</td>\n",
       "      <td>0.117647</td>\n",
       "      <td>0.194444</td>\n",
       "      <td>0.420603</td>\n",
       "    </tr>\n",
       "    <tr>\n",
       "      <th>7</th>\n",
       "      <td>0.486911</td>\n",
       "      <td>0.662069</td>\n",
       "      <td>0.839024</td>\n",
       "      <td>0.973684</td>\n",
       "      <td>0.625000</td>\n",
       "      <td>0.619860</td>\n",
       "      <td>0.421429</td>\n",
       "      <td>0.633333</td>\n",
       "      <td>0.08125</td>\n",
       "      <td>0.605263</td>\n",
       "      <td>0.551020</td>\n",
       "      <td>0.058824</td>\n",
       "      <td>0.055556</td>\n",
       "      <td>0.626528</td>\n",
       "    </tr>\n",
       "    <tr>\n",
       "      <th>9</th>\n",
       "      <td>0.664921</td>\n",
       "      <td>0.503448</td>\n",
       "      <td>0.580488</td>\n",
       "      <td>0.394737</td>\n",
       "      <td>0.471154</td>\n",
       "      <td>0.351823</td>\n",
       "      <td>0.685714</td>\n",
       "      <td>0.347619</td>\n",
       "      <td>0.11250</td>\n",
       "      <td>0.348684</td>\n",
       "      <td>0.673469</td>\n",
       "      <td>0.235294</td>\n",
       "      <td>0.305556</td>\n",
       "      <td>0.377848</td>\n",
       "    </tr>\n",
       "  </tbody>\n",
       "</table>\n",
       "</div>"
      ],
      "text/plain": [
       "   normalized-losses  wheel-base    length     width    height  curb-weight  \\\n",
       "2           0.518325    0.455172  0.577236  0.517544  0.471154     0.329325   \n",
       "3           0.518325    0.441379  0.577236  0.535088  0.471154     0.518231   \n",
       "5           0.486911    0.662069  0.839024  0.973684  0.605769     0.525989   \n",
       "7           0.486911    0.662069  0.839024  0.973684  0.625000     0.619860   \n",
       "9           0.664921    0.503448  0.580488  0.394737  0.471154     0.351823   \n",
       "\n",
       "       bore    stroke  compression-rate  horsepower  peak-rpm  city-mpg  \\\n",
       "2  0.464286  0.633333           0.18750    0.355263  0.551020  0.264706   \n",
       "3  0.464286  0.633333           0.06250    0.440789  0.551020  0.088235   \n",
       "5  0.464286  0.633333           0.09375    0.407895  0.551020  0.117647   \n",
       "7  0.421429  0.633333           0.08125    0.605263  0.551020  0.058824   \n",
       "9  0.685714  0.347619           0.11250    0.348684  0.673469  0.235294   \n",
       "\n",
       "   highway-mpg     price  \n",
       "2     0.333333  0.295010  \n",
       "3     0.111111  0.411918  \n",
       "5     0.194444  0.420603  \n",
       "7     0.055556  0.626528  \n",
       "9     0.305556  0.377848  "
      ]
     },
     "execution_count": 259,
     "metadata": {},
     "output_type": "execute_result"
    }
   ],
   "source": [
    "cars.head()"
   ]
  },
  {
   "cell_type": "markdown",
   "metadata": {},
   "source": [
    "## Одномерная модель"
   ]
  },
  {
   "cell_type": "markdown",
   "metadata": {},
   "source": [
    "Напишу функцию для обучения модели и ее валидации и вычисления средней квадратичной ошибки для к=5"
   ]
  },
  {
   "cell_type": "code",
   "execution_count": 261,
   "metadata": {
    "collapsed": false
   },
   "outputs": [],
   "source": [
    "def knn_train_test(df,train_c,target_c):\n",
    "    np.random.seed(1)\n",
    "    shuffled_index = np.random.permutation(df.index)\n",
    "    df = df.reindex(shuffled_index)\n",
    "    train=df[0:int(len(df)/2)]\n",
    "    test=df[int(len(df)/2):]\n",
    "    model = KNeighborsRegressor()\n",
    "    model.fit(df[[train_c]], df[target_c])\n",
    "    labels = model.predict(test[[train_c]])\n",
    "    mse=mean_squared_error(test[target_c],labels)\n",
    "    rmse=mse**0.5\n",
    "    return rmse"
   ]
  },
  {
   "cell_type": "code",
   "execution_count": 262,
   "metadata": {
    "collapsed": false
   },
   "outputs": [],
   "source": [
    "train_c=cars.columns\n",
    "train_c=train_c.drop(\"price\")\n"
   ]
  },
  {
   "cell_type": "code",
   "execution_count": 264,
   "metadata": {
    "collapsed": false
   },
   "outputs": [
    {
     "data": {
      "text/plain": [
       "0.09160566282688608"
      ]
     },
     "execution_count": 264,
     "metadata": {},
     "output_type": "execute_result"
    }
   ],
   "source": [
    "\n",
    "knn_train_test(cars,\"city-mpg\",\"price\")\n"
   ]
  },
  {
   "cell_type": "code",
   "execution_count": 265,
   "metadata": {
    "collapsed": false
   },
   "outputs": [],
   "source": [
    "result={}\n",
    "for i in train_c:\n",
    "    a=knn_train_test(cars,i,\"price\")\n",
    "    result[i]=a"
   ]
  },
  {
   "cell_type": "code",
   "execution_count": 266,
   "metadata": {
    "collapsed": false
   },
   "outputs": [],
   "source": [
    "rm_result=pd.Series(result)"
   ]
  },
  {
   "cell_type": "code",
   "execution_count": 267,
   "metadata": {
    "collapsed": false
   },
   "outputs": [
    {
     "data": {
      "text/plain": [
       "curb-weight          0.060277\n",
       "wheel-base           0.073329\n",
       "horsepower           0.075651\n",
       "width                0.077702\n",
       "highway-mpg          0.078319\n",
       "length               0.084624\n",
       "city-mpg             0.091606\n",
       "normalized-losses    0.121629\n",
       "bore                 0.122332\n",
       "stroke               0.128952\n",
       "height               0.145687\n",
       "compression-rate     0.148910\n",
       "peak-rpm             0.163671\n",
       "dtype: float64"
      ]
     },
     "execution_count": 267,
     "metadata": {},
     "output_type": "execute_result"
    }
   ],
   "source": [
    "rm_result.sort_values()"
   ]
  },
  {
   "cell_type": "markdown",
   "metadata": {},
   "source": [
    "## Многомерная модель"
   ]
  },
  {
   "cell_type": "markdown",
   "metadata": {},
   "source": [
    "Изменим функцию для использования k=[1,3,5,7,9]"
   ]
  },
  {
   "cell_type": "code",
   "execution_count": 272,
   "metadata": {
    "collapsed": false
   },
   "outputs": [],
   "source": [
    "def knn_train_test_k(df,train_c,target_c):\n",
    "    np.random.seed(1)\n",
    "    shuffled_index = np.random.permutation(df.index)\n",
    "    df = df.reindex(shuffled_index)\n",
    "    train=df[0:int(len(df)/2)]\n",
    "    test=df[int(len(df)/2):]\n",
    "    q={}\n",
    "    k=[1,3,5,7,9]\n",
    "    for i in k:\n",
    "        model = KNeighborsRegressor(n_neighbors=i)\n",
    "        model.fit(df[[train_c]], df[target_c])\n",
    "        labels = model.predict(test[[train_c]])\n",
    "        mse=mean_squared_error(test[target_c],labels)\n",
    "        rmse=mse**0.5\n",
    "        q[i]=rmse   \n",
    "    return q\n",
    "k_rmse_results = {}\n",
    "for i in train_c:\n",
    "    a=knn_train_test_k(cars,i,\"price\")\n",
    "    k_rmse_results[i]=a"
   ]
  },
  {
   "cell_type": "code",
   "execution_count": 273,
   "metadata": {
    "collapsed": false,
    "scrolled": true
   },
   "outputs": [
    {
     "data": {
      "text/plain": [
       "{'bore': {1: 0.1463207276871438,\n",
       "  3: 0.1210739092767343,\n",
       "  5: 0.12233170840089953,\n",
       "  7: 0.12486593503676602,\n",
       "  9: 0.12571948553152937},\n",
       " 'city-mpg': {1: 0.16333775453581423,\n",
       "  3: 0.09714061491462248,\n",
       "  5: 0.09160566282688608,\n",
       "  7: 0.08953510119623269,\n",
       "  9: 0.08950476896912854},\n",
       " 'compression-rate': {1: 0.1754436649893072,\n",
       "  3: 0.14167935488668432,\n",
       "  5: 0.14890966909665418,\n",
       "  7: 0.14627163000543345,\n",
       "  9: 0.15143780740581028},\n",
       " 'curb-weight': {1: 0.013222475494870227,\n",
       "  3: 0.05309986944527839,\n",
       "  5: 0.060277199287428966,\n",
       "  7: 0.0649371132083392,\n",
       "  9: 0.06643930971482344},\n",
       " 'height': {1: 0.1651710068530323,\n",
       "  3: 0.1466924208244183,\n",
       "  5: 0.14568665956217913,\n",
       "  7: 0.14806184436888528,\n",
       "  9: 0.14773245550561478},\n",
       " 'highway-mpg': {1: 0.10262421484158817,\n",
       "  3: 0.08197261072625463,\n",
       "  5: 0.07831863284994904,\n",
       "  7: 0.0819993637427976,\n",
       "  9: 0.08425037517799348},\n",
       " 'horsepower': {1: 0.053192980169763,\n",
       "  3: 0.06214939449790195,\n",
       "  5: 0.0756506101307259,\n",
       "  7: 0.08521502599852872,\n",
       "  9: 0.0846896230948756},\n",
       " 'length': {1: 0.0671343732711296,\n",
       "  3: 0.0793969313393235,\n",
       "  5: 0.08462356820522723,\n",
       "  7: 0.08942325111650228,\n",
       "  9: 0.09545442220926652},\n",
       " 'normalized-losses': {1: 0.12396479489715155,\n",
       "  3: 0.10204396830583266,\n",
       "  5: 0.12162892870963582,\n",
       "  7: 0.14007097386475886,\n",
       "  9: 0.15087919749852668},\n",
       " 'peak-rpm': {1: 0.17112456431957712,\n",
       "  3: 0.1522598050275424,\n",
       "  5: 0.16367135181228287,\n",
       "  7: 0.18100741946364718,\n",
       "  9: 0.17798482748223252},\n",
       " 'stroke': {1: 0.12562982875014986,\n",
       "  3: 0.11953251634611152,\n",
       "  5: 0.12895194233994509,\n",
       "  7: 0.1358358679581898,\n",
       "  9: 0.14679722309947899},\n",
       " 'wheel-base': {1: 0.06832867845915228,\n",
       "  3: 0.05849535723838249,\n",
       "  5: 0.07332850533203025,\n",
       "  7: 0.0790228622074896,\n",
       "  9: 0.08937986875635522},\n",
       " 'width': {1: 0.06475216627702819,\n",
       "  3: 0.07121584980936087,\n",
       "  5: 0.0777022769392364,\n",
       "  7: 0.07860202007176527,\n",
       "  9: 0.07906876038792987}}"
      ]
     },
     "execution_count": 273,
     "metadata": {},
     "output_type": "execute_result"
    }
   ],
   "source": [
    "k_rmse_results"
   ]
  },
  {
   "cell_type": "code",
   "execution_count": 274,
   "metadata": {
    "collapsed": false
   },
   "outputs": [
    {
     "data": {
      "image/png": "[encoded data removed]",
      "text/plain": [
       "<matplotlib.figure.Figure at 0x7f144541bf60>"
      ]
     },
     "metadata": {},
     "output_type": "display_data"
    }
   ],
   "source": [
    "for k,v in sorted(k_rmse_results.items()):\n",
    "    x = sorted(list(v.keys()))\n",
    "    y= list(v.values())\n",
    "    y= [v[i] for i in x]\n",
    "    plt.plot(x,y)\n",
    "    plt.xlabel('k value')\n",
    "    plt.ylabel('RMSE')"
   ]
  },
  {
   "cell_type": "code",
   "execution_count": 276,
   "metadata": {
    "collapsed": false
   },
   "outputs": [
    {
     "data": {
      "text/plain": [
       "curb-weight          0.051595\n",
       "horsepower           0.072180\n",
       "wheel-base           0.073711\n",
       "width                0.074268\n",
       "length               0.083207\n",
       "highway-mpg          0.085833\n",
       "city-mpg             0.106225\n",
       "normalized-losses    0.127718\n",
       "bore                 0.128062\n",
       "stroke               0.131349\n",
       "height               0.150669\n",
       "compression-rate     0.152748\n",
       "peak-rpm             0.169210\n",
       "dtype: float64"
      ]
     },
     "execution_count": 276,
     "metadata": {},
     "output_type": "execute_result"
    }
   ],
   "source": [
    "b={}\n",
    "for k,v in k_rmse_results.items():\n",
    "    y= np.mean(list(v.values()))\n",
    "    b[k]=y\n",
    "b=pd.Series(b).sort_values()\n",
    "b"
   ]
  },
  {
   "cell_type": "markdown",
   "metadata": {},
   "source": [
    "Изменим фукнцию для приема на вход списка имен столбцов для формирования тренировочной выборки вместо использования имени одного столбца"
   ]
  },
  {
   "cell_type": "code",
   "execution_count": 278,
   "metadata": {
    "collapsed": true
   },
   "outputs": [],
   "source": [
    "def knn_train_test_k(df,train_c,target_c):\n",
    "    np.random.seed(1)\n",
    "    shuffled_index = np.random.permutation(df.index)\n",
    "    df = df.reindex(shuffled_index)\n",
    "    train=df[0:int(len(df)/2)]\n",
    "    test=df[int(len(df)/2):]\n",
    "    q={}\n",
    "    k=[1,3,5,7,9]\n",
    "    for i in k:\n",
    "        model = KNeighborsRegressor(n_neighbors=i)\n",
    "        model.fit(df[train_c], df[target_c])\n",
    "        labels = model.predict(test[train_c])\n",
    "        mse=mean_squared_error(test[target_c],labels)\n",
    "        rmse=mse**0.5\n",
    "        q[i]=rmse   \n",
    "    return q\n"
   ]
  },
  {
   "cell_type": "markdown",
   "metadata": {},
   "source": [
    "Использую от 2х до 6ти лучших столбцов из предыдущих тестов"
   ]
  },
  {
   "cell_type": "code",
   "execution_count": 240,
   "metadata": {
    "collapsed": false
   },
   "outputs": [
    {
     "name": "stdout",
     "output_type": "stream",
     "text": [
      "['curb-weight', 'horsepower', 'wheel-base', 'width', 'length', 'highway-mpg']\n",
      "{2: {1: 0.013222475494870227, 3: 0.05309986944527839, 9: 0.06643930971482344, 5: 0.060277199287428966, 7: 0.0649371132083392}, 3: {1: 0.011680663605058796, 3: 0.042690393174186526, 9: 0.06991472915925603, 5: 0.05573228846182606, 7: 0.06281964531916923}, 4: {1: 0.011680663605058796, 3: 0.038916610317879, 9: 0.0650011636910759, 5: 0.04867590241672985, 7: 0.055561415668678456}, 5: {1: 0.011660653873673281, 3: 0.03258196291718005, 9: 0.05939921086480602, 5: 0.04811090748918335, 7: 0.054171470889356706}}\n"
     ]
    },
    {
     "data": {
      "text/plain": [
       "5    0.041185\n",
       "4    0.043967\n",
       "3    0.048568\n",
       "2    0.051595\n",
       "dtype: float64"
      ]
     },
     "execution_count": 240,
     "metadata": {},
     "output_type": "execute_result"
    }
   ],
   "source": [
    "train_c=b.index\n",
    "train_c=list(train_c[:6])\n",
    "\n",
    "print(train_c)\n",
    "k_rmse_results = {}\n",
    "for i in range(2,6):\n",
    "    m=train_c[:i-1]\n",
    "    a=knn_train_test_k(cars,m,\"price\")\n",
    "    k_rmse_results[i]=a\n",
    "print(k_rmse_results)\n",
    "bb={}\n",
    "for k,v in k_rmse_results.items():\n",
    "    y= np.mean(list(v.values()))\n",
    "    bb[k]=y\n",
    "bb=pd.Series(bb).sort_values()\n",
    "bb"
   ]
  },
  {
   "cell_type": "code",
   "execution_count": 241,
   "metadata": {
    "collapsed": false
   },
   "outputs": [
    {
     "name": "stdout",
     "output_type": "stream",
     "text": [
      "['curb-weight', 'horsepower', 'wheel-base', 'width', 'length', 'highway-mpg']\n",
      "['curb-weight']\n",
      "['curb-weight', 'horsepower']\n",
      "['curb-weight', 'horsepower', 'wheel-base']\n",
      "['curb-weight', 'horsepower', 'wheel-base', 'width']\n",
      "{2: {1: 0.013222475494870227, 2: 0.05107001100063515, 3: 0.05309986944527839, 4: 0.05732105793782136, 5: 0.060277199287428966, 6: 0.06528764721075624, 7: 0.0649371132083392, 8: 0.06579306078343104, 9: 0.06643930971482344, 10: 0.06902192455470092, 11: 0.07058969456377291, 12: 0.07240250647180207, 13: 0.07363433250435884, 14: 0.07636423384703202, 15: 0.07787362695406264, 16: 0.07884992315174583, 17: 0.08079002165972744, 18: 0.08102542016404073, 19: 0.08146160538161853, 20: 0.0817770365326798, 21: 0.0821924748365548, 22: 0.08210754919007772, 23: 0.08305201010477274, 24: 0.0837283851109784, 25: 0.08421770597485088}, 3: {1: 0.011680663605058796, 2: 0.029486984543239645, 3: 0.042690393174186526, 4: 0.05363079332841598, 5: 0.05573228846182606, 6: 0.05761318722266965, 7: 0.06281964531916923, 8: 0.06717186645258204, 9: 0.06991472915925603, 10: 0.07320750109559108, 11: 0.07419062199663672, 12: 0.07408084694426746, 13: 0.07628352021879871, 14: 0.07680118028105637, 15: 0.07630505260416644, 16: 0.07738583786539228, 17: 0.078930585266621, 18: 0.07939293024585689, 19: 0.08208684145375407, 20: 0.08275136482405676, 21: 0.08378965007222841, 22: 0.08581904226425696, 23: 0.08661089917070855, 24: 0.08803179940576482, 25: 0.08835888486505343}, 4: {1: 0.011680663605058796, 2: 0.03000267196327822, 3: 0.038916610317879, 4: 0.04062485825582939, 5: 0.04867590241672985, 6: 0.05342809459431213, 7: 0.055561415668678456, 8: 0.06221231003428774, 9: 0.0650011636910759, 10: 0.06643198394441831, 11: 0.06882830026622958, 12: 0.07014383133963287, 13: 0.07325230953811114, 14: 0.07440598830577823, 15: 0.07673940517123691, 16: 0.07802006516384817, 17: 0.07851149017827007, 18: 0.08026620291715282, 19: 0.07992679113949268, 20: 0.08043526789647253, 21: 0.08147720837760367, 22: 0.082310301519777, 23: 0.0825253853869352, 24: 0.0825867115479776, 25: 0.08288954344167504}, 5: {1: 0.011660653873673281, 2: 0.030354130596361995, 3: 0.03258196291718005, 4: 0.04168560131916611, 5: 0.04811090748918335, 6: 0.05054571562978889, 7: 0.054171470889356706, 8: 0.056947050467655115, 9: 0.05939921086480602, 10: 0.05951963234070435, 11: 0.06234646930024113, 12: 0.06503136612649991, 13: 0.06683345228564858, 14: 0.06832982778585076, 15: 0.07107285028085998, 16: 0.072839181375203, 17: 0.07098761564494932, 18: 0.0728887169248885, 19: 0.07435404590172025, 20: 0.07425852004117572, 21: 0.0751399312326087, 22: 0.07656522915454933, 23: 0.07821402237541979, 24: 0.07968904561212196, 25: 0.07910025946030105}}\n"
     ]
    },
    {
     "data": {
      "image/png": "[encoded data removed]",
      "text/plain": [
       "<matplotlib.figure.Figure at 0x7f14476a8438>"
      ]
     },
     "metadata": {},
     "output_type": "display_data"
    }
   ],
   "source": [
    "def knn_train_test_k__(df,train_c,target_c):\n",
    "    np.random.seed(1)\n",
    "    shuffled_index = np.random.permutation(df.index)\n",
    "    df = df.reindex(shuffled_index)\n",
    "    train=df[0:int(len(df)/2)]\n",
    "    test=df[int(len(df)/2):]\n",
    "    q={}\n",
    "    k=range(1,26)\n",
    "    for i in k:\n",
    "        model = KNeighborsRegressor(n_neighbors=i)\n",
    "        model.fit(df[train_c], df[target_c])\n",
    "        labels = model.predict(test[train_c])\n",
    "        mse=mean_squared_error(test[target_c],labels)\n",
    "        rmse=mse**0.5\n",
    "        q[i]=rmse   \n",
    "    return q\n",
    "k_rmse_results = {}\n",
    "\n",
    "train_c=b.index\n",
    "train_c=list(train_c[:6])\n",
    "\n",
    "print(train_c)\n",
    "k_rmse_results = {}\n",
    "for i in range(2,6):\n",
    "    m=train_c[:i-1]\n",
    "    print(m)\n",
    "    a=knn_train_test_k__(cars,m,\"price\")\n",
    "    k_rmse_results[i]=a\n",
    "print(k_rmse_results)\n",
    "b={}\n",
    "for k,v in k_rmse_results.items():\n",
    "    y= np.mean(list(v.values()))\n",
    "    b[k]=y\n",
    "    \n",
    "for k,v in sorted(k_rmse_results.items()):\n",
    "    x = sorted(list(v.keys()))\n",
    "    y= list(v.values())\n",
    "    y= [v[i] for i in x]\n",
    "    plt.plot(x,y,label=train_c[:k-1])\n",
    "    plt.legend(loc='upper center', bbox_to_anchor=(0.5, 1.05),\n",
    "          ncol=3, fancybox=True, shadow=True)\n",
    "    plt.xlabel('k value')\n",
    "    plt.ylabel('RMSE')"
   ]
  }
 ],
 "metadata": {
  "kernelspec": {
   "display_name": "Python 3",
   "language": "python",
   "name": "python3"
  },
  "language_info": {
   "codemirror_mode": {
    "name": "ipython",
    "version": 3
   },
   "file_extension": ".py",
   "mimetype": "text/x-python",
   "name": "python",
   "nbconvert_exporter": "python",
   "pygments_lexer": "ipython3",
   "version": "3.4.3"
  }
 },
 "nbformat": 4,
 "nbformat_minor": 2
}

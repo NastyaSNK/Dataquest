{
 "cells": [
  {
   "cell_type": "markdown",
   "metadata": {
    "collapsed": true
   },
   "source": [
    "## Research births in the U.S\n",
    "The dataset contains the following columns:\n",
    "\n",
    "<li>year: Year (1994 to 2003).<p>\n",
    "<li>month: Month (1 to 12).<p>\n",
    "<li>date_of_month: Day number of the month (1 to 31).<p>\n",
    "<li>day_of_week: Day of week (1 to 7).<p>\n",
    "<li>births: Number of births that day.<p>\n"
   ]
  },
  {
   "cell_type": "markdown",
   "metadata": {},
   "source": [
    "## Read and split csv"
   ]
  },
  {
   "cell_type": "code",
   "execution_count": 13,
   "metadata": {
    "collapsed": false
   },
   "outputs": [
    {
     "data": {
      "text/plain": [
       "['year,month,date_of_month,day_of_week,births',\n",
       " '1994,1,1,6,8096',\n",
       " '1994,1,2,7,7772',\n",
       " '1994,1,3,1,10142',\n",
       " '1994,1,4,2,11248',\n",
       " '1994,1,5,3,11053',\n",
       " '1994,1,6,4,11406',\n",
       " '1994,1,7,5,11251',\n",
       " '1994,1,8,6,8653',\n",
       " '1994,1,9,7,7910']"
      ]
     },
     "execution_count": 13,
     "metadata": {},
     "output_type": "execute_result"
    }
   ],
   "source": [
    "data=open(\"US_births_1994-2003_CDC_NCHS.csv\",\"r\").read().split(\"\\n\")\n",
    "data[0:10]"
   ]
  },
  {
   "cell_type": "code",
   "execution_count": 7,
   "metadata": {
    "collapsed": false
   },
   "outputs": [],
   "source": [
    "def read_csv(input):\n",
    "    f=open(input,\"r\").read().split(\"\\n\")\n",
    "    string_list=f[1:len(f)]\n",
    "    final_list=[]\n",
    "    for sl in string_list:\n",
    "        int_fields=[]\n",
    "        string_fields=sl.split(\",\")\n",
    "        for s in string_fields:\n",
    "            int_fields.append(int(s))\n",
    "        final_list.append(int_fields)\n",
    "    return final_list"
   ]
  },
  {
   "cell_type": "code",
   "execution_count": 8,
   "metadata": {
    "collapsed": false
   },
   "outputs": [],
   "source": [
    "cdc_list=read_csv(\"US_births_1994-2003_CDC_NCHS.csv\")"
   ]
  },
  {
   "cell_type": "code",
   "execution_count": 9,
   "metadata": {
    "collapsed": false,
    "scrolled": false
   },
   "outputs": [
    {
     "data": {
      "text/plain": [
       "[[1994, 1, 1, 6, 8096],\n",
       " [1994, 1, 2, 7, 7772],\n",
       " [1994, 1, 3, 1, 10142],\n",
       " [1994, 1, 4, 2, 11248],\n",
       " [1994, 1, 5, 3, 11053],\n",
       " [1994, 1, 6, 4, 11406],\n",
       " [1994, 1, 7, 5, 11251],\n",
       " [1994, 1, 8, 6, 8653],\n",
       " [1994, 1, 9, 7, 7910],\n",
       " [1994, 1, 10, 1, 10498]]"
      ]
     },
     "execution_count": 9,
     "metadata": {},
     "output_type": "execute_result"
    }
   ],
   "source": [
    "cdc_list[:10]\n"
   ]
  },
  {
   "cell_type": "markdown",
   "metadata": {},
   "source": [
    "## Monthly totals"
   ]
  },
  {
   "cell_type": "code",
   "execution_count": 5,
   "metadata": {
    "collapsed": false
   },
   "outputs": [
    {
     "data": {
      "text/plain": [
       "{1: 3232517,\n",
       " 2: 3018140,\n",
       " 3: 3322069,\n",
       " 4: 3185314,\n",
       " 5: 3350907,\n",
       " 6: 3296530,\n",
       " 7: 3498783,\n",
       " 8: 3525858,\n",
       " 9: 3439698,\n",
       " 10: 3378814,\n",
       " 11: 3171647,\n",
       " 12: 3301860}"
      ]
     },
     "execution_count": 5,
     "metadata": {},
     "output_type": "execute_result"
    }
   ],
   "source": [
    "def month_births(input):\n",
    "    births_per_month={}\n",
    "    for it in input:\n",
    "        if it[1] in births_per_month:\n",
    "            births_per_month[it[1]]=births_per_month[it[1]]+it[4]\n",
    "        else:\n",
    "            births_per_month[it[1]]=it[4] \n",
    "    return births_per_month\n",
    "cdc_month_births=month_births (cdc_list)\n",
    "cdc_month_births"
   ]
  },
  {
   "cell_type": "markdown",
   "metadata": {},
   "source": [
    "## Day-of-week totals"
   ]
  },
  {
   "cell_type": "code",
   "execution_count": 6,
   "metadata": {
    "collapsed": false
   },
   "outputs": [
    {
     "data": {
      "text/plain": [
       "{1: 5789166,\n",
       " 2: 6446196,\n",
       " 3: 6322855,\n",
       " 4: 6288429,\n",
       " 5: 6233657,\n",
       " 6: 4562111,\n",
       " 7: 4079723}"
      ]
     },
     "execution_count": 6,
     "metadata": {},
     "output_type": "execute_result"
    }
   ],
   "source": [
    "def dow_births(input):\n",
    "    births_per_weekday={}\n",
    "    for it in input:\n",
    "        if it[3] in births_per_weekday:\n",
    "            births_per_weekday[it[3]]=births_per_weekday[it[3]]+it[4]\n",
    "        else:\n",
    "            births_per_weekday[it[3]]=it[4] \n",
    "    return births_per_weekday\n",
    "cdc_day_births=dow_births(cdc_list)\n",
    "cdc_day_births\n",
    "\n"
   ]
  },
  {
   "cell_type": "markdown",
   "metadata": {},
   "source": [
    "##  General Function Functions to calculate the totals"
   ]
  },
  {
   "cell_type": "code",
   "execution_count": 32,
   "metadata": {
    "collapsed": false
   },
   "outputs": [
    {
     "data": {
      "text/plain": [
       "({1994: 3952767,\n",
       "  1995: 3899589,\n",
       "  1996: 3891494,\n",
       "  1997: 3880894,\n",
       "  1998: 3941553,\n",
       "  1999: 3959417,\n",
       "  2000: 4058814,\n",
       "  2001: 4025933,\n",
       "  2002: 4021726,\n",
       "  2003: 4089950},\n",
       " {1: 3232517,\n",
       "  2: 3018140,\n",
       "  3: 3322069,\n",
       "  4: 3185314,\n",
       "  5: 3350907,\n",
       "  6: 3296530,\n",
       "  7: 3498783,\n",
       "  8: 3525858,\n",
       "  9: 3439698,\n",
       "  10: 3378814,\n",
       "  11: 3171647,\n",
       "  12: 3301860},\n",
       " {1: 1276557,\n",
       "  2: 1288739,\n",
       "  3: 1304499,\n",
       "  4: 1288154,\n",
       "  5: 1299953,\n",
       "  6: 1304474,\n",
       "  7: 1310459,\n",
       "  8: 1312297,\n",
       "  9: 1303292,\n",
       "  10: 1320764,\n",
       "  11: 1314361,\n",
       "  12: 1318437,\n",
       "  13: 1277684,\n",
       "  14: 1320153,\n",
       "  15: 1319171,\n",
       "  16: 1315192,\n",
       "  17: 1324953,\n",
       "  18: 1326855,\n",
       "  19: 1318727,\n",
       "  20: 1324821,\n",
       "  21: 1322897,\n",
       "  22: 1317381,\n",
       "  23: 1293290,\n",
       "  24: 1288083,\n",
       "  25: 1272116,\n",
       "  26: 1284796,\n",
       "  27: 1294395,\n",
       "  28: 1307685,\n",
       "  29: 1223161,\n",
       "  30: 1202095,\n",
       "  31: 746696},\n",
       " {1: 5789166,\n",
       "  2: 6446196,\n",
       "  3: 6322855,\n",
       "  4: 6288429,\n",
       "  5: 6233657,\n",
       "  6: 4562111,\n",
       "  7: 4079723})"
      ]
     },
     "execution_count": 32,
     "metadata": {},
     "output_type": "execute_result"
    }
   ],
   "source": [
    "def calc_counts(data,column):\n",
    "    total={}\n",
    "    for it in data:\n",
    "        if it[column] in total:\n",
    "            total[it[column]]=total[it[column]]+it[4]\n",
    "        else:\n",
    "            total[it[column]]=it[4] \n",
    "    return total\n",
    "cdc_year_births=calc_counts(cdc_list,0)\n",
    "cdc_month_births=calc_counts(cdc_list,1)\n",
    "cdc_dom_births=calc_counts(cdc_list,2)\n",
    "cdc_dow_births=calc_counts(cdc_list,3)\n",
    "cdc_year_births,cdc_month_births,cdc_dom_births,cdc_dow_births\n"
   ]
  }
 ],
 "metadata": {
  "anaconda-cloud": {},
  "kernelspec": {
   "display_name": "Python 3",
   "language": "python",
   "name": "python3"
  },
  "language_info": {
   "codemirror_mode": {
    "name": "ipython",
    "version": 3
   },
   "file_extension": ".py",
   "mimetype": "text/x-python",
   "name": "python",
   "nbconvert_exporter": "python",
   "pygments_lexer": "ipython3",
   "version": "3.4.3"
  }
 },
 "nbformat": 4,
 "nbformat_minor": 1
}

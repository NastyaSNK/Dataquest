{
 "cells": [
  {
   "cell_type": "markdown",
   "metadata": {},
   "source": [
    "# Мобильное приложение для лотерейной зависимости"
   ]
  },
  {
   "cell_type": "markdown",
   "metadata": {},
   "source": [
    "\n",
    "**Цель:** разработать мобильное приложение, которое призвано помочь \"лотерейным наркоманам\" лучше оценить свои шансы на выигрыш. В данном проекте будет разработано логическое ядро приложения и произведен расчет вероятностей"
   ]
  },
  {
   "cell_type": "markdown",
   "metadata": {},
   "source": [
    "Для первой версии приложения необходимо, чтобы мы сосредоточились на лотерее 6/49 и построили функции, которые позволяют пользователям отвечать на такие вопросы, как:\n",
    "\n",
    "1. Какова вероятность выиграть Большой приз с одним билетом?\n",
    "2. Какова вероятность выиграть Большой приз, если мы разыграем 40 разных билетов (или любое другое число)?\n",
    "3. Какова вероятность наличия хотя бы пяти (или четырех, или трех, или двух) выигрышных номеров на одном билете?"
   ]
  },
  {
   "cell_type": "markdown",
   "metadata": {},
   "source": [
    "**Данные** За основу для расчетов возьмем исторические [данные](https://www.kaggle.com/datascienceai/lottery-dataset), полученные от национальной лотереи 6/49 в Канаде. В наборе данных есть данные для 3 665 рисунков, датируемых с 1982 по 2018 год."
   ]
  },
  {
   "cell_type": "code",
   "execution_count": 48,
   "metadata": {},
   "outputs": [],
   "source": [
    "import pandas as pd"
   ]
  },
  {
   "cell_type": "code",
   "execution_count": 36,
   "metadata": {},
   "outputs": [],
   "source": [
    "def factorial(n):\n",
    "    return 1 if (n < 1) else n * factorial(n-1)"
   ]
  },
  {
   "cell_type": "markdown",
   "metadata": {},
   "source": [
    "                                                     Сочетания без повторений\n",
    "\\begin{equation}\n",
    "_nC_k = {n \\choose k} =  \\frac{n!}{k!(n-k)!}\n",
    "\\end{equation}"
   ]
  },
  {
   "cell_type": "code",
   "execution_count": 38,
   "metadata": {},
   "outputs": [
    {
     "name": "stdout",
     "output_type": "stream",
     "text": [
      "13983816.0\n"
     ]
    }
   ],
   "source": [
    "def combination (n,k):\n",
    "    \"\"\"Функция для вычисления сочетаний без повторений\"\"\"\n",
    "    return factorial(n)/factorial(n-k)/factorial(k)    \n",
    "print(combination(49,6))"
   ]
  },
  {
   "cell_type": "markdown",
   "metadata": {},
   "source": [
    "## Вероятность выиграть приз для одного билета"
   ]
  },
  {
   "cell_type": "markdown",
   "metadata": {},
   "source": [
    "Нужно построить функцию, которая вычисляет вероятность выигрыша Большого приза для любого заданного билета. Для каждого розыгрыша, шесть номеров берутся из 49 номеров, и игроки выигрывают большой приз, если шесть номеров на их билетах соответствуют всем шести выбранным номерам.\n",
    "\n",
    "Пусть существуют следующие требования к функции:\n",
    "\n",
    "1. Внутри приложения пользователь вводит шесть различных чисел от 1 до 49.\n",
    "2. Под капотом, **шесть чисел будут приходить в виде списка Python** и служить в качестве входных данных для нашей функции.\n",
    "3. Инженерная команда хочет, чтобы функция печатала значение вероятности дружелюбным способом — таким образом, чтобы люди без какой-либо вероятностной подготовки могли понять.\n",
    "\n",
    "Ниже гапишу функцию one_ticket_probability (), которая принимает на вход список из шести уникальных чисел и выводит вероятность выигрыша понятным образом."
   ]
  },
  {
   "cell_type": "code",
   "execution_count": 119,
   "metadata": {},
   "outputs": [
    {
     "name": "stdout",
     "output_type": "stream",
     "text": [
      "Ваши шансы выиграть Большой приз с номерами [1, 2, 3, 4, 5, 6] равны 7.151123842018516e-06%. Другими словами, у вас есть 1 в 13,983,816.0 шансы на победу.\n",
      "Ваши шансы выиграть Большой приз с номерами [22, 42, 36, 14, 35, 16] равны 7.151123842018516e-06%. Другими словами, у вас есть 1 в 13,983,816.0 шансы на победу.\n"
     ]
    }
   ],
   "source": [
    "def one_ticket_probability(numbers):\n",
    "    \"\"\"вычисляет вероятность выигрыша Большого приза с одним билетом\"\"\"\n",
    "    m=1/combination(49,6)\n",
    "    return print(\"Ваши шансы выиграть Большой приз с номерами {} равны {}%. Другими словами, у вас есть 1 в {:,} шансы на победу.\".format(numbers,m*100,combination(49,6)))\n",
    "\n",
    "one_ticket_probability([1,2,3,4,5,6])\n",
    "one_ticket_probability([22,42,36,14,35,16])"
   ]
  },
  {
   "cell_type": "code",
   "execution_count": 120,
   "metadata": {},
   "outputs": [],
   "source": [
    "data=pd.read_csv(\"649.csv\")"
   ]
  },
  {
   "cell_type": "code",
   "execution_count": 121,
   "metadata": {},
   "outputs": [
    {
     "data": {
      "text/plain": [
       "(3665, 11)"
      ]
     },
     "execution_count": 121,
     "metadata": {},
     "output_type": "execute_result"
    }
   ],
   "source": [
    "data.shape"
   ]
  },
  {
   "cell_type": "code",
   "execution_count": 63,
   "metadata": {},
   "outputs": [
    {
     "data": {
      "text/html": [
       "<div>\n",
       "<style scoped>\n",
       "    .dataframe tbody tr th:only-of-type {\n",
       "        vertical-align: middle;\n",
       "    }\n",
       "\n",
       "    .dataframe tbody tr th {\n",
       "        vertical-align: top;\n",
       "    }\n",
       "\n",
       "    .dataframe thead th {\n",
       "        text-align: right;\n",
       "    }\n",
       "</style>\n",
       "<table border=\"1\" class=\"dataframe\">\n",
       "  <thead>\n",
       "    <tr style=\"text-align: right;\">\n",
       "      <th></th>\n",
       "      <th>PRODUCT</th>\n",
       "      <th>DRAW NUMBER</th>\n",
       "      <th>SEQUENCE NUMBER</th>\n",
       "      <th>DRAW DATE</th>\n",
       "      <th>NUMBER DRAWN 1</th>\n",
       "      <th>NUMBER DRAWN 2</th>\n",
       "      <th>NUMBER DRAWN 3</th>\n",
       "      <th>NUMBER DRAWN 4</th>\n",
       "      <th>NUMBER DRAWN 5</th>\n",
       "      <th>NUMBER DRAWN 6</th>\n",
       "      <th>BONUS NUMBER</th>\n",
       "    </tr>\n",
       "  </thead>\n",
       "  <tbody>\n",
       "    <tr>\n",
       "      <th>0</th>\n",
       "      <td>649</td>\n",
       "      <td>1</td>\n",
       "      <td>0</td>\n",
       "      <td>6/12/1982</td>\n",
       "      <td>3</td>\n",
       "      <td>11</td>\n",
       "      <td>12</td>\n",
       "      <td>14</td>\n",
       "      <td>41</td>\n",
       "      <td>43</td>\n",
       "      <td>13</td>\n",
       "    </tr>\n",
       "    <tr>\n",
       "      <th>1</th>\n",
       "      <td>649</td>\n",
       "      <td>2</td>\n",
       "      <td>0</td>\n",
       "      <td>6/19/1982</td>\n",
       "      <td>8</td>\n",
       "      <td>33</td>\n",
       "      <td>36</td>\n",
       "      <td>37</td>\n",
       "      <td>39</td>\n",
       "      <td>41</td>\n",
       "      <td>9</td>\n",
       "    </tr>\n",
       "    <tr>\n",
       "      <th>2</th>\n",
       "      <td>649</td>\n",
       "      <td>3</td>\n",
       "      <td>0</td>\n",
       "      <td>6/26/1982</td>\n",
       "      <td>1</td>\n",
       "      <td>6</td>\n",
       "      <td>23</td>\n",
       "      <td>24</td>\n",
       "      <td>27</td>\n",
       "      <td>39</td>\n",
       "      <td>34</td>\n",
       "    </tr>\n",
       "  </tbody>\n",
       "</table>\n",
       "</div>"
      ],
      "text/plain": [
       "   PRODUCT  DRAW NUMBER  SEQUENCE NUMBER  DRAW DATE  NUMBER DRAWN 1  \\\n",
       "0      649            1                0  6/12/1982               3   \n",
       "1      649            2                0  6/19/1982               8   \n",
       "2      649            3                0  6/26/1982               1   \n",
       "\n",
       "   NUMBER DRAWN 2  NUMBER DRAWN 3  NUMBER DRAWN 4  NUMBER DRAWN 5  \\\n",
       "0              11              12              14              41   \n",
       "1              33              36              37              39   \n",
       "2               6              23              24              27   \n",
       "\n",
       "   NUMBER DRAWN 6  BONUS NUMBER  \n",
       "0              43            13  \n",
       "1              41             9  \n",
       "2              39            34  "
      ]
     },
     "execution_count": 63,
     "metadata": {},
     "output_type": "execute_result"
    }
   ],
   "source": [
    "data.head(3)"
   ]
  },
  {
   "cell_type": "code",
   "execution_count": 64,
   "metadata": {},
   "outputs": [
    {
     "data": {
      "text/html": [
       "<div>\n",
       "<style scoped>\n",
       "    .dataframe tbody tr th:only-of-type {\n",
       "        vertical-align: middle;\n",
       "    }\n",
       "\n",
       "    .dataframe tbody tr th {\n",
       "        vertical-align: top;\n",
       "    }\n",
       "\n",
       "    .dataframe thead th {\n",
       "        text-align: right;\n",
       "    }\n",
       "</style>\n",
       "<table border=\"1\" class=\"dataframe\">\n",
       "  <thead>\n",
       "    <tr style=\"text-align: right;\">\n",
       "      <th></th>\n",
       "      <th>PRODUCT</th>\n",
       "      <th>DRAW NUMBER</th>\n",
       "      <th>SEQUENCE NUMBER</th>\n",
       "      <th>DRAW DATE</th>\n",
       "      <th>NUMBER DRAWN 1</th>\n",
       "      <th>NUMBER DRAWN 2</th>\n",
       "      <th>NUMBER DRAWN 3</th>\n",
       "      <th>NUMBER DRAWN 4</th>\n",
       "      <th>NUMBER DRAWN 5</th>\n",
       "      <th>NUMBER DRAWN 6</th>\n",
       "      <th>BONUS NUMBER</th>\n",
       "    </tr>\n",
       "  </thead>\n",
       "  <tbody>\n",
       "    <tr>\n",
       "      <th>3662</th>\n",
       "      <td>649</td>\n",
       "      <td>3589</td>\n",
       "      <td>0</td>\n",
       "      <td>6/13/2018</td>\n",
       "      <td>6</td>\n",
       "      <td>22</td>\n",
       "      <td>24</td>\n",
       "      <td>31</td>\n",
       "      <td>32</td>\n",
       "      <td>34</td>\n",
       "      <td>16</td>\n",
       "    </tr>\n",
       "    <tr>\n",
       "      <th>3663</th>\n",
       "      <td>649</td>\n",
       "      <td>3590</td>\n",
       "      <td>0</td>\n",
       "      <td>6/16/2018</td>\n",
       "      <td>2</td>\n",
       "      <td>15</td>\n",
       "      <td>21</td>\n",
       "      <td>31</td>\n",
       "      <td>38</td>\n",
       "      <td>49</td>\n",
       "      <td>8</td>\n",
       "    </tr>\n",
       "    <tr>\n",
       "      <th>3664</th>\n",
       "      <td>649</td>\n",
       "      <td>3591</td>\n",
       "      <td>0</td>\n",
       "      <td>6/20/2018</td>\n",
       "      <td>14</td>\n",
       "      <td>24</td>\n",
       "      <td>31</td>\n",
       "      <td>35</td>\n",
       "      <td>37</td>\n",
       "      <td>48</td>\n",
       "      <td>17</td>\n",
       "    </tr>\n",
       "  </tbody>\n",
       "</table>\n",
       "</div>"
      ],
      "text/plain": [
       "      PRODUCT  DRAW NUMBER  SEQUENCE NUMBER  DRAW DATE  NUMBER DRAWN 1  \\\n",
       "3662      649         3589                0  6/13/2018               6   \n",
       "3663      649         3590                0  6/16/2018               2   \n",
       "3664      649         3591                0  6/20/2018              14   \n",
       "\n",
       "      NUMBER DRAWN 2  NUMBER DRAWN 3  NUMBER DRAWN 4  NUMBER DRAWN 5  \\\n",
       "3662              22              24              31              32   \n",
       "3663              15              21              31              38   \n",
       "3664              24              31              35              37   \n",
       "\n",
       "      NUMBER DRAWN 6  BONUS NUMBER  \n",
       "3662              34            16  \n",
       "3663              49             8  \n",
       "3664              48            17  "
      ]
     },
     "execution_count": 64,
     "metadata": {},
     "output_type": "execute_result"
    }
   ],
   "source": [
    "data.tail(3)"
   ]
  },
  {
   "cell_type": "code",
   "execution_count": 57,
   "metadata": {},
   "outputs": [
    {
     "data": {
      "text/html": [
       "<div>\n",
       "<style scoped>\n",
       "    .dataframe tbody tr th:only-of-type {\n",
       "        vertical-align: middle;\n",
       "    }\n",
       "\n",
       "    .dataframe tbody tr th {\n",
       "        vertical-align: top;\n",
       "    }\n",
       "\n",
       "    .dataframe thead th {\n",
       "        text-align: right;\n",
       "    }\n",
       "</style>\n",
       "<table border=\"1\" class=\"dataframe\">\n",
       "  <thead>\n",
       "    <tr style=\"text-align: right;\">\n",
       "      <th></th>\n",
       "      <th>PRODUCT</th>\n",
       "      <th>DRAW NUMBER</th>\n",
       "      <th>SEQUENCE NUMBER</th>\n",
       "      <th>DRAW DATE</th>\n",
       "      <th>NUMBER DRAWN 1</th>\n",
       "      <th>NUMBER DRAWN 2</th>\n",
       "      <th>NUMBER DRAWN 3</th>\n",
       "      <th>NUMBER DRAWN 4</th>\n",
       "      <th>NUMBER DRAWN 5</th>\n",
       "      <th>NUMBER DRAWN 6</th>\n",
       "      <th>BONUS NUMBER</th>\n",
       "    </tr>\n",
       "  </thead>\n",
       "  <tbody>\n",
       "    <tr>\n",
       "      <th>3009</th>\n",
       "      <td>649</td>\n",
       "      <td>2965</td>\n",
       "      <td>0</td>\n",
       "      <td>6/20/2012</td>\n",
       "      <td>1</td>\n",
       "      <td>6</td>\n",
       "      <td>10</td>\n",
       "      <td>26</td>\n",
       "      <td>31</td>\n",
       "      <td>38</td>\n",
       "      <td>11</td>\n",
       "    </tr>\n",
       "    <tr>\n",
       "      <th>3010</th>\n",
       "      <td>649</td>\n",
       "      <td>2965</td>\n",
       "      <td>1</td>\n",
       "      <td>6/20/2012</td>\n",
       "      <td>2</td>\n",
       "      <td>3</td>\n",
       "      <td>15</td>\n",
       "      <td>17</td>\n",
       "      <td>25</td>\n",
       "      <td>42</td>\n",
       "      <td>0</td>\n",
       "    </tr>\n",
       "    <tr>\n",
       "      <th>3011</th>\n",
       "      <td>649</td>\n",
       "      <td>2965</td>\n",
       "      <td>2</td>\n",
       "      <td>6/20/2012</td>\n",
       "      <td>4</td>\n",
       "      <td>18</td>\n",
       "      <td>27</td>\n",
       "      <td>28</td>\n",
       "      <td>31</td>\n",
       "      <td>33</td>\n",
       "      <td>0</td>\n",
       "    </tr>\n",
       "    <tr>\n",
       "      <th>3012</th>\n",
       "      <td>649</td>\n",
       "      <td>2965</td>\n",
       "      <td>3</td>\n",
       "      <td>6/20/2012</td>\n",
       "      <td>8</td>\n",
       "      <td>13</td>\n",
       "      <td>17</td>\n",
       "      <td>32</td>\n",
       "      <td>44</td>\n",
       "      <td>48</td>\n",
       "      <td>0</td>\n",
       "    </tr>\n",
       "  </tbody>\n",
       "</table>\n",
       "</div>"
      ],
      "text/plain": [
       "      PRODUCT  DRAW NUMBER  SEQUENCE NUMBER  DRAW DATE  NUMBER DRAWN 1  \\\n",
       "3009      649         2965                0  6/20/2012               1   \n",
       "3010      649         2965                1  6/20/2012               2   \n",
       "3011      649         2965                2  6/20/2012               4   \n",
       "3012      649         2965                3  6/20/2012               8   \n",
       "\n",
       "      NUMBER DRAWN 2  NUMBER DRAWN 3  NUMBER DRAWN 4  NUMBER DRAWN 5  \\\n",
       "3009               6              10              26              31   \n",
       "3010               3              15              17              25   \n",
       "3011              18              27              28              31   \n",
       "3012              13              17              32              44   \n",
       "\n",
       "      NUMBER DRAWN 6  BONUS NUMBER  \n",
       "3009              38            11  \n",
       "3010              42             0  \n",
       "3011              33             0  \n",
       "3012              48             0  "
      ]
     },
     "execution_count": 57,
     "metadata": {},
     "output_type": "execute_result"
    }
   ],
   "source": [
    "data[data[\"DRAW NUMBER\"]==2965]"
   ]
  },
  {
   "cell_type": "markdown",
   "metadata": {},
   "source": [
    "## Сверка с историческими данными"
   ]
  },
  {
   "cell_type": "markdown",
   "metadata": {},
   "source": [
    "Следующие требования к логике ядра приложения:\n",
    "\n",
    "1. Внутри приложения пользователь вводит шесть различных чисел от 1 до 49.\n",
    "2. Под капотом, шесть чисел будут приходить в виде списка Python и служить в качестве входных данных для нашей функции.\n",
    "3. функция, которая печатает: число раз, когда выбранная комбинация встречалась в наборе данных Канады; и вероятность выигрыша Большого приза в следующем розыгрыше с этой комбинацией."
   ]
  },
  {
   "cell_type": "code",
   "execution_count": 95,
   "metadata": {},
   "outputs": [],
   "source": [
    "# def extract_numbers(row):\n",
    "#     for label,i in data.iterrows():\n",
    "#         a=set(i[['NUMBER DRAWN 1','NUMBER DRAWN 2','NUMBER DRAWN 3','NUMBER DRAWN 4','NUMBER DRAWN 5','NUMBER DRAWN 6']])\n",
    "#         return a\n",
    "\n",
    "def extract_numbers(row):\n",
    "    \"\"\"Функция для извлецения выигрышных номеров из исторического набор данных\"\"\"\n",
    "    return set(row[4:10].values)"
   ]
  },
  {
   "cell_type": "code",
   "execution_count": 96,
   "metadata": {},
   "outputs": [],
   "source": [
    "winning_num=data.apply(extract_numbers,axis=1)"
   ]
  },
  {
   "cell_type": "code",
   "execution_count": 159,
   "metadata": {},
   "outputs": [],
   "source": [
    "def check_historical_occurence(user_num,winnig_set):\n",
    "    '''a:проверяет, произошла ли определенная комбинация в наборе данных лотереи Канады\n",
    "    user_num: a Python list\n",
    "    winnig_set: a pandas Series'''\n",
    "    a=set(user_num)==winnig_set\n",
    "    number=a.sum()\n",
    "    if number ==0:\n",
    "        return print(\"В прошлом такой комбинации {} не было. Шанс на выигрыш {}%.Другими словами, у вас есть 1 к {:,} шансов на победу.\".format(user_num,1/combination(49,6)*100,combination(49,6)))\n",
    "    else:\n",
    "        return print(\"Такая комбинация {} в прошлом встречалась {} раз. Шанс на выигрыш {}%.Другими словами, у вас есть 1 к {:,} шансов на победу.\".format(user_num,number,1/combination(49,6)*100,combination(49,6)))"
   ]
  },
  {
   "cell_type": "code",
   "execution_count": 160,
   "metadata": {},
   "outputs": [],
   "source": [
    "a=[33, 36, 37, 39, 8, 41]"
   ]
  },
  {
   "cell_type": "code",
   "execution_count": 161,
   "metadata": {},
   "outputs": [
    {
     "name": "stdout",
     "output_type": "stream",
     "text": [
      "Такая комбинация [33, 36, 37, 39, 8, 41] в прошлом встречалась 1 раз. Шанс на выигрыш 7.151123842018516e-06%.Другими словами, у вас есть 1 к 13,983,816.0 шансов на победу.\n"
     ]
    }
   ],
   "source": [
    "check_historical_occurence(a,winning_num)"
   ]
  },
  {
   "cell_type": "code",
   "execution_count": 162,
   "metadata": {},
   "outputs": [
    {
     "name": "stdout",
     "output_type": "stream",
     "text": [
      "В прошлом такой комбинации [3, 2, 44, 22, 1, 44] не было. Шанс на выигрыш 7.151123842018516e-06%.Другими словами, у вас есть 1 к 13,983,816.0 шансов на победу.\n"
     ]
    }
   ],
   "source": [
    "\n",
    "test_input_4 = [3, 2, 44, 22, 1, 44]\n",
    "check_historical_occurence(test_input_4,winning_num)"
   ]
  },
  {
   "cell_type": "markdown",
   "metadata": {},
   "source": [
    "## Вероятность для нескольких билетов"
   ]
  },
  {
   "cell_type": "markdown",
   "metadata": {},
   "source": [
    "Тк зачастую игроки используют в розыгрыше больше 1го билета, напишу функцию,которая рассчитывает шанс на выигрыш для любого кол-ва биллетов"
   ]
  },
  {
   "cell_type": "markdown",
   "metadata": {},
   "source": [
    "следующие требования к приложению:\n",
    "\n",
    "1. Пользователь будет вводить количество различных билетов, которые они хотят играть (без ввода конкретных комбинаций, которые они намерены играть).\n",
    "2. Наша функция будет видеть целое число от 1 до 13 983 816 (максимальное количество различных билетов).\n",
    "3. Функция должна выводить информацию о вероятности выигрыша Большого приза в зависимости от количества разыгранных билетов."
   ]
  },
  {
   "cell_type": "code",
   "execution_count": 166,
   "metadata": {},
   "outputs": [],
   "source": [
    "def multi_ticket_probability(num):\n",
    "    \"Вычисляет вероятность Большого приза  для любого кол-ва билетов от 1 до 13983816 \"\n",
    "    m=num/combination(49,6)  \n",
    "    return print('''Шанс выиграть большой приз с кол-м билетов {:,} {:.6f}%.\n",
    "Другими словами есть 1 из {:,} шансов выиграть.'''.format(num, m*100,\n",
    "                                                               int(1/m)))"
   ]
  },
  {
   "cell_type": "code",
   "execution_count": 164,
   "metadata": {},
   "outputs": [],
   "source": [
    "b=[1, 10, 100, 10000, 1000000, 6991908, 13983816]"
   ]
  },
  {
   "cell_type": "code",
   "execution_count": 167,
   "metadata": {},
   "outputs": [
    {
     "name": "stdout",
     "output_type": "stream",
     "text": [
      "Шанс выиграть большой приз с кол-м билетов 1 0.000007%.\n",
      "Другими словами есть 1 из 13,983,816 шансов выиграть.\n",
      "Шанс выиграть большой приз с кол-м билетов 10 0.000072%.\n",
      "Другими словами есть 1 из 1,398,381 шансов выиграть.\n",
      "Шанс выиграть большой приз с кол-м билетов 100 0.000715%.\n",
      "Другими словами есть 1 из 139,838 шансов выиграть.\n",
      "Шанс выиграть большой приз с кол-м билетов 10,000 0.071511%.\n",
      "Другими словами есть 1 из 1,398 шансов выиграть.\n",
      "Шанс выиграть большой приз с кол-м билетов 1,000,000 7.151124%.\n",
      "Другими словами есть 1 из 13 шансов выиграть.\n",
      "Шанс выиграть большой приз с кол-м билетов 6,991,908 50.000000%.\n",
      "Другими словами есть 1 из 2 шансов выиграть.\n",
      "Шанс выиграть большой приз с кол-м билетов 13,983,816 100.000000%.\n",
      "Другими словами есть 1 из 1 шансов выиграть.\n"
     ]
    }
   ],
   "source": [
    "for i in b:\n",
    "    multi_ticket_probability(i)"
   ]
  },
  {
   "cell_type": "markdown",
   "metadata": {},
   "source": [
    "## Вероятность для совпедения 5, 4, 3.. выигрышных чисел"
   ]
  },
  {
   "cell_type": "markdown",
   "metadata": {},
   "source": [
    "В большинстве лотерей 6/49 есть призы, если билет игрока соответствует двум, трем, четырем или пяти из шести взятых чисел. Как следствие, пользователи могут быть заинтересованы в знании вероятности наличия двух, трех, четырех или пяти выигрышных номеров.\n",
    "\n",
    "**Требования к логике приложения:**\n",
    "\n",
    "Внутри приложения пользователь вводит данные:\n",
    "шесть различных чисел от 1 до 49 и целое число от 2 до 5, представляющее количество ожидаемых выигрышных номеров\n",
    "Функция выводит информацию о вероятности наличия введенного количества выигрышных номеров."
   ]
  },
  {
   "cell_type": "code",
   "execution_count": 178,
   "metadata": {},
   "outputs": [],
   "source": [
    "def probability_less_6(num):\n",
    "    \"Вычисляет вероятность получить 2.3,4,5 номеров из выигрышной комбинации \"\n",
    "    combination(49,num)\n",
    "    sucess_outcomes=combination(6,num)*(49-num)\n",
    "    p=sucess_outcomes/combination(49,6)\n",
    "    return print(\"Шанс получить приз для {} номеров из всей комбинации {} %\".format(num,round(p*100,4)))"
   ]
  },
  {
   "cell_type": "code",
   "execution_count": 179,
   "metadata": {},
   "outputs": [
    {
     "name": "stdout",
     "output_type": "stream",
     "text": [
      "Шанс получить приз для 2 номеров из всей комбинации 0.005 %\n",
      "Шанс получить приз для 3 номеров из всей комбинации 0.0066 %\n",
      "Шанс получить приз для 4 номеров из всей комбинации 0.0048 %\n",
      "Шанс получить приз для 5 номеров из всей комбинации 0.0019 %\n"
     ]
    }
   ],
   "source": [
    "l=[2,3,4,5]\n",
    "for i in l:\n",
    "    probability_less_6(i)"
   ]
  },
  {
   "cell_type": "markdown",
   "metadata": {},
   "source": [
    "## Заключение"
   ]
  },
  {
   "cell_type": "markdown",
   "metadata": {},
   "source": [
    "В данном проекте разработано главным образом 4 функции:\n",
    "one_ticket_probability() — вычисляет вероятность выигрыша для 1го билета\n",
    "check_historical_occurrence() — проверяет содержится ли комбинации в историческом наборе данных\n",
    "multi_ticket_probability() — вычисляет вероятность выйгрыша для любого кол-ва билетов от  1 and 13,983,816\n",
    "probability_less_6() — вычисляет вероятность получить 2,3,4,5 выигрышных номеров"
   ]
  }
 ],
 "metadata": {
  "kernelspec": {
   "display_name": "Python 3",
   "language": "python",
   "name": "python3"
  },
  "language_info": {
   "codemirror_mode": {
    "name": "ipython",
    "version": 3
   },
   "file_extension": ".py",
   "mimetype": "text/x-python",
   "name": "python",
   "nbconvert_exporter": "python",
   "pygments_lexer": "ipython3",
   "version": "3.7.3"
  }
 },
 "nbformat": 4,
 "nbformat_minor": 2
}
